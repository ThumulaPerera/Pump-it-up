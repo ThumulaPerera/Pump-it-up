{
 "cells": [
  {
   "cell_type": "markdown",
   "id": "f78e075c-dc70-4d51-b615-a8297be18743",
   "metadata": {},
   "source": [
    "# Exploratory Data Analysis "
   ]
  },
  {
   "cell_type": "code",
   "execution_count": 1,
   "id": "7d22651d-5b46-4017-9271-69d73e9880a5",
   "metadata": {},
   "outputs": [],
   "source": [
    "import numpy as np \n",
    "import pandas as pd \n",
    "import matplotlib.pyplot as plt \n",
    "import seaborn as sns\n",
    "\n",
    "# Input data files are available in the read-only \"../data/\" directory\n",
    "\n",
    "# Load the train data\n",
    "train_values_file_path = '../data/train-set-values.csv'\n",
    "train_values = pd.read_csv(train_values_file_path)\n",
    "X = train_values.copy()\n",
    "\n",
    "train_labels_file_path = '../data/train-set-labels.csv'\n",
    "train_labels = pd.read_csv(train_labels_file_path)\n",
    "y = train_labels.copy()\n",
    "\n",
    "X_y = pd.concat([X.set_index('id'),y.set_index('id')], axis=1, join='inner').reset_index()\n",
    "\n",
    "# Load the test data\n",
    "test_file_path = '../data/test-set-values.csv'\n",
    "test_values = pd.read_csv(test_file_path)\n",
    "X_test = test_values.copy()"
   ]
  },
  {
   "cell_type": "code",
   "execution_count": 2,
   "id": "ab1de79b-7720-4334-8a45-e6979f8d6ea5",
   "metadata": {},
   "outputs": [],
   "source": [
    "# set seaborn color palatte\n",
    "palette=[\"C2\", \"C1\", \"C0\"]\n",
    "customPalette = sns.set_palette(sns.color_palette(palette))"
   ]
  },
  {
   "cell_type": "markdown",
   "id": "b8e89f37-cbc7-4d19-8fa6-82fa8bbcab4c",
   "metadata": {},
   "source": [
    "## Explore Target Class Distribution"
   ]
  },
  {
   "cell_type": "code",
   "execution_count": 3,
   "id": "ca71dd0c-5251-4aed-8865-2ca5d7faf32b",
   "metadata": {},
   "outputs": [
    {
     "data": {
      "text/html": [
       "<div>\n",
       "<style scoped>\n",
       "    .dataframe tbody tr th:only-of-type {\n",
       "        vertical-align: middle;\n",
       "    }\n",
       "\n",
       "    .dataframe tbody tr th {\n",
       "        vertical-align: top;\n",
       "    }\n",
       "\n",
       "    .dataframe thead th {\n",
       "        text-align: right;\n",
       "    }\n",
       "</style>\n",
       "<table border=\"1\" class=\"dataframe\">\n",
       "  <thead>\n",
       "    <tr style=\"text-align: right;\">\n",
       "      <th></th>\n",
       "      <th>id</th>\n",
       "      <th>status_group</th>\n",
       "    </tr>\n",
       "  </thead>\n",
       "  <tbody>\n",
       "    <tr>\n",
       "      <th>0</th>\n",
       "      <td>69572</td>\n",
       "      <td>functional</td>\n",
       "    </tr>\n",
       "    <tr>\n",
       "      <th>1</th>\n",
       "      <td>8776</td>\n",
       "      <td>functional</td>\n",
       "    </tr>\n",
       "    <tr>\n",
       "      <th>2</th>\n",
       "      <td>34310</td>\n",
       "      <td>functional</td>\n",
       "    </tr>\n",
       "    <tr>\n",
       "      <th>3</th>\n",
       "      <td>67743</td>\n",
       "      <td>non functional</td>\n",
       "    </tr>\n",
       "    <tr>\n",
       "      <th>4</th>\n",
       "      <td>19728</td>\n",
       "      <td>functional</td>\n",
       "    </tr>\n",
       "  </tbody>\n",
       "</table>\n",
       "</div>"
      ],
      "text/plain": [
       "      id    status_group\n",
       "0  69572      functional\n",
       "1   8776      functional\n",
       "2  34310      functional\n",
       "3  67743  non functional\n",
       "4  19728      functional"
      ]
     },
     "execution_count": 3,
     "metadata": {},
     "output_type": "execute_result"
    }
   ],
   "source": [
    "y.head()"
   ]
  },
  {
   "cell_type": "code",
   "execution_count": 4,
   "id": "8b929c4b-141c-4140-ba2c-b2974abce743",
   "metadata": {},
   "outputs": [
    {
     "data": {
      "text/plain": [
       "<AxesSubplot:xlabel='status_group', ylabel='count'>"
      ]
     },
     "execution_count": 4,
     "metadata": {},
     "output_type": "execute_result"
    },
    {
     "data": {
      "image/png": "[encoded data removed]",
      "text/plain": [
       "<Figure size 432x288 with 1 Axes>"
      ]
     },
     "metadata": {
      "needs_background": "light"
     },
     "output_type": "display_data"
    }
   ],
   "source": [
    "sns.countplot(x=\"status_group\", data=y)"
   ]
  },
  {
   "cell_type": "markdown",
   "id": "f1a95310-6eb9-4966-8531-4cc44a91a0d4",
   "metadata": {},
   "source": [
    "In the training data, the data belonging to the category `functional needs repair` are much less comparative to other 2 target categories. i.e. a clear cut target class imbalance is observed. This needs to be taken into account in later stages."
   ]
  },
  {
   "cell_type": "markdown",
   "id": "53aa917a-2b8b-4019-ac15-e6def9dd6646",
   "metadata": {},
   "source": [
    "## Explore Training Data"
   ]
  },
  {
   "cell_type": "code",
   "execution_count": 5,
   "id": "5c67000c-1251-4e5e-b1a7-bbe73d2a9152",
   "metadata": {},
   "outputs": [
    {
     "data": {
      "text/html": [
       "<div>\n",
       "<style scoped>\n",
       "    .dataframe tbody tr th:only-of-type {\n",
       "        vertical-align: middle;\n",
       "    }\n",
       "\n",
       "    .dataframe tbody tr th {\n",
       "        vertical-align: top;\n",
       "    }\n",
       "\n",
       "    .dataframe thead th {\n",
       "        text-align: right;\n",
       "    }\n",
       "</style>\n",
       "<table border=\"1\" class=\"dataframe\">\n",
       "  <thead>\n",
       "    <tr style=\"text-align: right;\">\n",
       "      <th></th>\n",
       "      <th>id</th>\n",
       "      <th>amount_tsh</th>\n",
       "      <th>date_recorded</th>\n",
       "      <th>funder</th>\n",
       "      <th>gps_height</th>\n",
       "      <th>installer</th>\n",
       "      <th>longitude</th>\n",
       "      <th>latitude</th>\n",
       "      <th>wpt_name</th>\n",
       "      <th>num_private</th>\n",
       "      <th>...</th>\n",
       "      <th>payment_type</th>\n",
       "      <th>water_quality</th>\n",
       "      <th>quality_group</th>\n",
       "      <th>quantity</th>\n",
       "      <th>quantity_group</th>\n",
       "      <th>source</th>\n",
       "      <th>source_type</th>\n",
       "      <th>source_class</th>\n",
       "      <th>waterpoint_type</th>\n",
       "      <th>waterpoint_type_group</th>\n",
       "    </tr>\n",
       "  </thead>\n",
       "  <tbody>\n",
       "    <tr>\n",
       "      <th>0</th>\n",
       "      <td>69572</td>\n",
       "      <td>6000.0</td>\n",
       "      <td>2011-03-14</td>\n",
       "      <td>Roman</td>\n",
       "      <td>1390</td>\n",
       "      <td>Roman</td>\n",
       "      <td>34.938093</td>\n",
       "      <td>-9.856322</td>\n",
       "      <td>none</td>\n",
       "      <td>0</td>\n",
       "      <td>...</td>\n",
       "      <td>annually</td>\n",
       "      <td>soft</td>\n",
       "      <td>good</td>\n",
       "      <td>enough</td>\n",
       "      <td>enough</td>\n",
       "      <td>spring</td>\n",
       "      <td>spring</td>\n",
       "      <td>groundwater</td>\n",
       "      <td>communal standpipe</td>\n",
       "      <td>communal standpipe</td>\n",
       "    </tr>\n",
       "    <tr>\n",
       "      <th>1</th>\n",
       "      <td>8776</td>\n",
       "      <td>0.0</td>\n",
       "      <td>2013-03-06</td>\n",
       "      <td>Grumeti</td>\n",
       "      <td>1399</td>\n",
       "      <td>GRUMETI</td>\n",
       "      <td>34.698766</td>\n",
       "      <td>-2.147466</td>\n",
       "      <td>Zahanati</td>\n",
       "      <td>0</td>\n",
       "      <td>...</td>\n",
       "      <td>never pay</td>\n",
       "      <td>soft</td>\n",
       "      <td>good</td>\n",
       "      <td>insufficient</td>\n",
       "      <td>insufficient</td>\n",
       "      <td>rainwater harvesting</td>\n",
       "      <td>rainwater harvesting</td>\n",
       "      <td>surface</td>\n",
       "      <td>communal standpipe</td>\n",
       "      <td>communal standpipe</td>\n",
       "    </tr>\n",
       "    <tr>\n",
       "      <th>2</th>\n",
       "      <td>34310</td>\n",
       "      <td>25.0</td>\n",
       "      <td>2013-02-25</td>\n",
       "      <td>Lottery Club</td>\n",
       "      <td>686</td>\n",
       "      <td>World vision</td>\n",
       "      <td>37.460664</td>\n",
       "      <td>-3.821329</td>\n",
       "      <td>Kwa Mahundi</td>\n",
       "      <td>0</td>\n",
       "      <td>...</td>\n",
       "      <td>per bucket</td>\n",
       "      <td>soft</td>\n",
       "      <td>good</td>\n",
       "      <td>enough</td>\n",
       "      <td>enough</td>\n",
       "      <td>dam</td>\n",
       "      <td>dam</td>\n",
       "      <td>surface</td>\n",
       "      <td>communal standpipe multiple</td>\n",
       "      <td>communal standpipe</td>\n",
       "    </tr>\n",
       "    <tr>\n",
       "      <th>3</th>\n",
       "      <td>67743</td>\n",
       "      <td>0.0</td>\n",
       "      <td>2013-01-28</td>\n",
       "      <td>Unicef</td>\n",
       "      <td>263</td>\n",
       "      <td>UNICEF</td>\n",
       "      <td>38.486161</td>\n",
       "      <td>-11.155298</td>\n",
       "      <td>Zahanati Ya Nanyumbu</td>\n",
       "      <td>0</td>\n",
       "      <td>...</td>\n",
       "      <td>never pay</td>\n",
       "      <td>soft</td>\n",
       "      <td>good</td>\n",
       "      <td>dry</td>\n",
       "      <td>dry</td>\n",
       "      <td>machine dbh</td>\n",
       "      <td>borehole</td>\n",
       "      <td>groundwater</td>\n",
       "      <td>communal standpipe multiple</td>\n",
       "      <td>communal standpipe</td>\n",
       "    </tr>\n",
       "    <tr>\n",
       "      <th>4</th>\n",
       "      <td>19728</td>\n",
       "      <td>0.0</td>\n",
       "      <td>2011-07-13</td>\n",
       "      <td>Action In A</td>\n",
       "      <td>0</td>\n",
       "      <td>Artisan</td>\n",
       "      <td>31.130847</td>\n",
       "      <td>-1.825359</td>\n",
       "      <td>Shuleni</td>\n",
       "      <td>0</td>\n",
       "      <td>...</td>\n",
       "      <td>never pay</td>\n",
       "      <td>soft</td>\n",
       "      <td>good</td>\n",
       "      <td>seasonal</td>\n",
       "      <td>seasonal</td>\n",
       "      <td>rainwater harvesting</td>\n",
       "      <td>rainwater harvesting</td>\n",
       "      <td>surface</td>\n",
       "      <td>communal standpipe</td>\n",
       "      <td>communal standpipe</td>\n",
       "    </tr>\n",
       "  </tbody>\n",
       "</table>\n",
       "<p>5 rows × 40 columns</p>\n",
       "</div>"
      ],
      "text/plain": [
       "      id  amount_tsh date_recorded        funder  gps_height     installer  \\\n",
       "0  69572      6000.0    2011-03-14         Roman        1390         Roman   \n",
       "1   8776         0.0    2013-03-06       Grumeti        1399       GRUMETI   \n",
       "2  34310        25.0    2013-02-25  Lottery Club         686  World vision   \n",
       "3  67743         0.0    2013-01-28        Unicef         263        UNICEF   \n",
       "4  19728         0.0    2011-07-13   Action In A           0       Artisan   \n",
       "\n",
       "   longitude   latitude              wpt_name  num_private  ... payment_type  \\\n",
       "0  34.938093  -9.856322                  none            0  ...     annually   \n",
       "1  34.698766  -2.147466              Zahanati            0  ...    never pay   \n",
       "2  37.460664  -3.821329           Kwa Mahundi            0  ...   per bucket   \n",
       "3  38.486161 -11.155298  Zahanati Ya Nanyumbu            0  ...    never pay   \n",
       "4  31.130847  -1.825359               Shuleni            0  ...    never pay   \n",
       "\n",
       "  water_quality quality_group      quantity  quantity_group  \\\n",
       "0          soft          good        enough          enough   \n",
       "1          soft          good  insufficient    insufficient   \n",
       "2          soft          good        enough          enough   \n",
       "3          soft          good           dry             dry   \n",
       "4          soft          good      seasonal        seasonal   \n",
       "\n",
       "                 source           source_type  source_class  \\\n",
       "0                spring                spring   groundwater   \n",
       "1  rainwater harvesting  rainwater harvesting       surface   \n",
       "2                   dam                   dam       surface   \n",
       "3           machine dbh              borehole   groundwater   \n",
       "4  rainwater harvesting  rainwater harvesting       surface   \n",
       "\n",
       "               waterpoint_type waterpoint_type_group  \n",
       "0           communal standpipe    communal standpipe  \n",
       "1           communal standpipe    communal standpipe  \n",
       "2  communal standpipe multiple    communal standpipe  \n",
       "3  communal standpipe multiple    communal standpipe  \n",
       "4           communal standpipe    communal standpipe  \n",
       "\n",
       "[5 rows x 40 columns]"
      ]
     },
     "execution_count": 5,
     "metadata": {},
     "output_type": "execute_result"
    }
   ],
   "source": [
    "X.head()"
   ]
  },
  {
   "cell_type": "markdown",
   "id": "3592418d-b987-42e5-87d9-08f4233b570d",
   "metadata": {},
   "source": [
    "### Inspect numerical columns"
   ]
  },
  {
   "cell_type": "code",
   "execution_count": 6,
   "id": "d88dfd2d-b240-47b0-a42c-60b3c920d237",
   "metadata": {},
   "outputs": [
    {
     "data": {
      "text/html": [
       "<div>\n",
       "<style scoped>\n",
       "    .dataframe tbody tr th:only-of-type {\n",
       "        vertical-align: middle;\n",
       "    }\n",
       "\n",
       "    .dataframe tbody tr th {\n",
       "        vertical-align: top;\n",
       "    }\n",
       "\n",
       "    .dataframe thead th {\n",
       "        text-align: right;\n",
       "    }\n",
       "</style>\n",
       "<table border=\"1\" class=\"dataframe\">\n",
       "  <thead>\n",
       "    <tr style=\"text-align: right;\">\n",
       "      <th></th>\n",
       "      <th>count</th>\n",
       "      <th>mean</th>\n",
       "      <th>std</th>\n",
       "      <th>min</th>\n",
       "      <th>25%</th>\n",
       "      <th>50%</th>\n",
       "      <th>75%</th>\n",
       "      <th>max</th>\n",
       "    </tr>\n",
       "  </thead>\n",
       "  <tbody>\n",
       "    <tr>\n",
       "      <th>id</th>\n",
       "      <td>59400.0</td>\n",
       "      <td>37115.131768</td>\n",
       "      <td>21453.128371</td>\n",
       "      <td>0.00000</td>\n",
       "      <td>18519.750000</td>\n",
       "      <td>37061.500000</td>\n",
       "      <td>55656.500000</td>\n",
       "      <td>7.424700e+04</td>\n",
       "    </tr>\n",
       "    <tr>\n",
       "      <th>amount_tsh</th>\n",
       "      <td>59400.0</td>\n",
       "      <td>317.650385</td>\n",
       "      <td>2997.574558</td>\n",
       "      <td>0.00000</td>\n",
       "      <td>0.000000</td>\n",
       "      <td>0.000000</td>\n",
       "      <td>20.000000</td>\n",
       "      <td>3.500000e+05</td>\n",
       "    </tr>\n",
       "    <tr>\n",
       "      <th>gps_height</th>\n",
       "      <td>59400.0</td>\n",
       "      <td>668.297239</td>\n",
       "      <td>693.116350</td>\n",
       "      <td>-90.00000</td>\n",
       "      <td>0.000000</td>\n",
       "      <td>369.000000</td>\n",
       "      <td>1319.250000</td>\n",
       "      <td>2.770000e+03</td>\n",
       "    </tr>\n",
       "    <tr>\n",
       "      <th>longitude</th>\n",
       "      <td>59400.0</td>\n",
       "      <td>34.077427</td>\n",
       "      <td>6.567432</td>\n",
       "      <td>0.00000</td>\n",
       "      <td>33.090347</td>\n",
       "      <td>34.908743</td>\n",
       "      <td>37.178387</td>\n",
       "      <td>4.034519e+01</td>\n",
       "    </tr>\n",
       "    <tr>\n",
       "      <th>latitude</th>\n",
       "      <td>59400.0</td>\n",
       "      <td>-5.706033</td>\n",
       "      <td>2.946019</td>\n",
       "      <td>-11.64944</td>\n",
       "      <td>-8.540621</td>\n",
       "      <td>-5.021597</td>\n",
       "      <td>-3.326156</td>\n",
       "      <td>-2.000000e-08</td>\n",
       "    </tr>\n",
       "    <tr>\n",
       "      <th>num_private</th>\n",
       "      <td>59400.0</td>\n",
       "      <td>0.474141</td>\n",
       "      <td>12.236230</td>\n",
       "      <td>0.00000</td>\n",
       "      <td>0.000000</td>\n",
       "      <td>0.000000</td>\n",
       "      <td>0.000000</td>\n",
       "      <td>1.776000e+03</td>\n",
       "    </tr>\n",
       "    <tr>\n",
       "      <th>region_code</th>\n",
       "      <td>59400.0</td>\n",
       "      <td>15.297003</td>\n",
       "      <td>17.587406</td>\n",
       "      <td>1.00000</td>\n",
       "      <td>5.000000</td>\n",
       "      <td>12.000000</td>\n",
       "      <td>17.000000</td>\n",
       "      <td>9.900000e+01</td>\n",
       "    </tr>\n",
       "    <tr>\n",
       "      <th>district_code</th>\n",
       "      <td>59400.0</td>\n",
       "      <td>5.629747</td>\n",
       "      <td>9.633649</td>\n",
       "      <td>0.00000</td>\n",
       "      <td>2.000000</td>\n",
       "      <td>3.000000</td>\n",
       "      <td>5.000000</td>\n",
       "      <td>8.000000e+01</td>\n",
       "    </tr>\n",
       "    <tr>\n",
       "      <th>population</th>\n",
       "      <td>59400.0</td>\n",
       "      <td>179.909983</td>\n",
       "      <td>471.482176</td>\n",
       "      <td>0.00000</td>\n",
       "      <td>0.000000</td>\n",
       "      <td>25.000000</td>\n",
       "      <td>215.000000</td>\n",
       "      <td>3.050000e+04</td>\n",
       "    </tr>\n",
       "    <tr>\n",
       "      <th>construction_year</th>\n",
       "      <td>59400.0</td>\n",
       "      <td>1300.652475</td>\n",
       "      <td>951.620547</td>\n",
       "      <td>0.00000</td>\n",
       "      <td>0.000000</td>\n",
       "      <td>1986.000000</td>\n",
       "      <td>2004.000000</td>\n",
       "      <td>2.013000e+03</td>\n",
       "    </tr>\n",
       "  </tbody>\n",
       "</table>\n",
       "</div>"
      ],
      "text/plain": [
       "                     count          mean           std       min  \\\n",
       "id                 59400.0  37115.131768  21453.128371   0.00000   \n",
       "amount_tsh         59400.0    317.650385   2997.574558   0.00000   \n",
       "gps_height         59400.0    668.297239    693.116350 -90.00000   \n",
       "longitude          59400.0     34.077427      6.567432   0.00000   \n",
       "latitude           59400.0     -5.706033      2.946019 -11.64944   \n",
       "num_private        59400.0      0.474141     12.236230   0.00000   \n",
       "region_code        59400.0     15.297003     17.587406   1.00000   \n",
       "district_code      59400.0      5.629747      9.633649   0.00000   \n",
       "population         59400.0    179.909983    471.482176   0.00000   \n",
       "construction_year  59400.0   1300.652475    951.620547   0.00000   \n",
       "\n",
       "                            25%           50%           75%           max  \n",
       "id                 18519.750000  37061.500000  55656.500000  7.424700e+04  \n",
       "amount_tsh             0.000000      0.000000     20.000000  3.500000e+05  \n",
       "gps_height             0.000000    369.000000   1319.250000  2.770000e+03  \n",
       "longitude             33.090347     34.908743     37.178387  4.034519e+01  \n",
       "latitude              -8.540621     -5.021597     -3.326156 -2.000000e-08  \n",
       "num_private            0.000000      0.000000      0.000000  1.776000e+03  \n",
       "region_code            5.000000     12.000000     17.000000  9.900000e+01  \n",
       "district_code          2.000000      3.000000      5.000000  8.000000e+01  \n",
       "population             0.000000     25.000000    215.000000  3.050000e+04  \n",
       "construction_year      0.000000   1986.000000   2004.000000  2.013000e+03  "
      ]
     },
     "execution_count": 6,
     "metadata": {},
     "output_type": "execute_result"
    }
   ],
   "source": [
    "X.describe(include=[np.number]).T"
   ]
  },
  {
   "cell_type": "markdown",
   "id": "07b0d36e-1a56-42b2-8c9d-ffa95712aa0d",
   "metadata": {},
   "source": [
    "### Inspect categorical columns"
   ]
  },
  {
   "cell_type": "code",
   "execution_count": 7,
   "id": "c307d274-ee04-47a1-9c08-4d67e8a3636a",
   "metadata": {},
   "outputs": [
    {
     "data": {
      "text/html": [
       "<div>\n",
       "<style scoped>\n",
       "    .dataframe tbody tr th:only-of-type {\n",
       "        vertical-align: middle;\n",
       "    }\n",
       "\n",
       "    .dataframe tbody tr th {\n",
       "        vertical-align: top;\n",
       "    }\n",
       "\n",
       "    .dataframe thead th {\n",
       "        text-align: right;\n",
       "    }\n",
       "</style>\n",
       "<table border=\"1\" class=\"dataframe\">\n",
       "  <thead>\n",
       "    <tr style=\"text-align: right;\">\n",
       "      <th></th>\n",
       "      <th>count</th>\n",
       "      <th>unique</th>\n",
       "      <th>top</th>\n",
       "      <th>freq</th>\n",
       "    </tr>\n",
       "  </thead>\n",
       "  <tbody>\n",
       "    <tr>\n",
       "      <th>date_recorded</th>\n",
       "      <td>59400</td>\n",
       "      <td>356</td>\n",
       "      <td>2011-03-15</td>\n",
       "      <td>572</td>\n",
       "    </tr>\n",
       "    <tr>\n",
       "      <th>funder</th>\n",
       "      <td>55765</td>\n",
       "      <td>1897</td>\n",
       "      <td>Government Of Tanzania</td>\n",
       "      <td>9084</td>\n",
       "    </tr>\n",
       "    <tr>\n",
       "      <th>installer</th>\n",
       "      <td>55745</td>\n",
       "      <td>2145</td>\n",
       "      <td>DWE</td>\n",
       "      <td>17402</td>\n",
       "    </tr>\n",
       "    <tr>\n",
       "      <th>wpt_name</th>\n",
       "      <td>59400</td>\n",
       "      <td>37400</td>\n",
       "      <td>none</td>\n",
       "      <td>3563</td>\n",
       "    </tr>\n",
       "    <tr>\n",
       "      <th>basin</th>\n",
       "      <td>59400</td>\n",
       "      <td>9</td>\n",
       "      <td>Lake Victoria</td>\n",
       "      <td>10248</td>\n",
       "    </tr>\n",
       "    <tr>\n",
       "      <th>subvillage</th>\n",
       "      <td>59029</td>\n",
       "      <td>19287</td>\n",
       "      <td>Madukani</td>\n",
       "      <td>508</td>\n",
       "    </tr>\n",
       "    <tr>\n",
       "      <th>region</th>\n",
       "      <td>59400</td>\n",
       "      <td>21</td>\n",
       "      <td>Iringa</td>\n",
       "      <td>5294</td>\n",
       "    </tr>\n",
       "    <tr>\n",
       "      <th>lga</th>\n",
       "      <td>59400</td>\n",
       "      <td>125</td>\n",
       "      <td>Njombe</td>\n",
       "      <td>2503</td>\n",
       "    </tr>\n",
       "    <tr>\n",
       "      <th>ward</th>\n",
       "      <td>59400</td>\n",
       "      <td>2092</td>\n",
       "      <td>Igosi</td>\n",
       "      <td>307</td>\n",
       "    </tr>\n",
       "    <tr>\n",
       "      <th>public_meeting</th>\n",
       "      <td>56066</td>\n",
       "      <td>2</td>\n",
       "      <td>True</td>\n",
       "      <td>51011</td>\n",
       "    </tr>\n",
       "    <tr>\n",
       "      <th>recorded_by</th>\n",
       "      <td>59400</td>\n",
       "      <td>1</td>\n",
       "      <td>GeoData Consultants Ltd</td>\n",
       "      <td>59400</td>\n",
       "    </tr>\n",
       "    <tr>\n",
       "      <th>scheme_management</th>\n",
       "      <td>55523</td>\n",
       "      <td>12</td>\n",
       "      <td>VWC</td>\n",
       "      <td>36793</td>\n",
       "    </tr>\n",
       "    <tr>\n",
       "      <th>scheme_name</th>\n",
       "      <td>31234</td>\n",
       "      <td>2696</td>\n",
       "      <td>K</td>\n",
       "      <td>682</td>\n",
       "    </tr>\n",
       "    <tr>\n",
       "      <th>permit</th>\n",
       "      <td>56344</td>\n",
       "      <td>2</td>\n",
       "      <td>True</td>\n",
       "      <td>38852</td>\n",
       "    </tr>\n",
       "    <tr>\n",
       "      <th>extraction_type</th>\n",
       "      <td>59400</td>\n",
       "      <td>18</td>\n",
       "      <td>gravity</td>\n",
       "      <td>26780</td>\n",
       "    </tr>\n",
       "    <tr>\n",
       "      <th>extraction_type_group</th>\n",
       "      <td>59400</td>\n",
       "      <td>13</td>\n",
       "      <td>gravity</td>\n",
       "      <td>26780</td>\n",
       "    </tr>\n",
       "    <tr>\n",
       "      <th>extraction_type_class</th>\n",
       "      <td>59400</td>\n",
       "      <td>7</td>\n",
       "      <td>gravity</td>\n",
       "      <td>26780</td>\n",
       "    </tr>\n",
       "    <tr>\n",
       "      <th>management</th>\n",
       "      <td>59400</td>\n",
       "      <td>12</td>\n",
       "      <td>vwc</td>\n",
       "      <td>40507</td>\n",
       "    </tr>\n",
       "    <tr>\n",
       "      <th>management_group</th>\n",
       "      <td>59400</td>\n",
       "      <td>5</td>\n",
       "      <td>user-group</td>\n",
       "      <td>52490</td>\n",
       "    </tr>\n",
       "    <tr>\n",
       "      <th>payment</th>\n",
       "      <td>59400</td>\n",
       "      <td>7</td>\n",
       "      <td>never pay</td>\n",
       "      <td>25348</td>\n",
       "    </tr>\n",
       "    <tr>\n",
       "      <th>payment_type</th>\n",
       "      <td>59400</td>\n",
       "      <td>7</td>\n",
       "      <td>never pay</td>\n",
       "      <td>25348</td>\n",
       "    </tr>\n",
       "    <tr>\n",
       "      <th>water_quality</th>\n",
       "      <td>59400</td>\n",
       "      <td>8</td>\n",
       "      <td>soft</td>\n",
       "      <td>50818</td>\n",
       "    </tr>\n",
       "    <tr>\n",
       "      <th>quality_group</th>\n",
       "      <td>59400</td>\n",
       "      <td>6</td>\n",
       "      <td>good</td>\n",
       "      <td>50818</td>\n",
       "    </tr>\n",
       "    <tr>\n",
       "      <th>quantity</th>\n",
       "      <td>59400</td>\n",
       "      <td>5</td>\n",
       "      <td>enough</td>\n",
       "      <td>33186</td>\n",
       "    </tr>\n",
       "    <tr>\n",
       "      <th>quantity_group</th>\n",
       "      <td>59400</td>\n",
       "      <td>5</td>\n",
       "      <td>enough</td>\n",
       "      <td>33186</td>\n",
       "    </tr>\n",
       "    <tr>\n",
       "      <th>source</th>\n",
       "      <td>59400</td>\n",
       "      <td>10</td>\n",
       "      <td>spring</td>\n",
       "      <td>17021</td>\n",
       "    </tr>\n",
       "    <tr>\n",
       "      <th>source_type</th>\n",
       "      <td>59400</td>\n",
       "      <td>7</td>\n",
       "      <td>spring</td>\n",
       "      <td>17021</td>\n",
       "    </tr>\n",
       "    <tr>\n",
       "      <th>source_class</th>\n",
       "      <td>59400</td>\n",
       "      <td>3</td>\n",
       "      <td>groundwater</td>\n",
       "      <td>45794</td>\n",
       "    </tr>\n",
       "    <tr>\n",
       "      <th>waterpoint_type</th>\n",
       "      <td>59400</td>\n",
       "      <td>7</td>\n",
       "      <td>communal standpipe</td>\n",
       "      <td>28522</td>\n",
       "    </tr>\n",
       "    <tr>\n",
       "      <th>waterpoint_type_group</th>\n",
       "      <td>59400</td>\n",
       "      <td>6</td>\n",
       "      <td>communal standpipe</td>\n",
       "      <td>34625</td>\n",
       "    </tr>\n",
       "  </tbody>\n",
       "</table>\n",
       "</div>"
      ],
      "text/plain": [
       "                       count unique                      top   freq\n",
       "date_recorded          59400    356               2011-03-15    572\n",
       "funder                 55765   1897   Government Of Tanzania   9084\n",
       "installer              55745   2145                      DWE  17402\n",
       "wpt_name               59400  37400                     none   3563\n",
       "basin                  59400      9            Lake Victoria  10248\n",
       "subvillage             59029  19287                 Madukani    508\n",
       "region                 59400     21                   Iringa   5294\n",
       "lga                    59400    125                   Njombe   2503\n",
       "ward                   59400   2092                    Igosi    307\n",
       "public_meeting         56066      2                     True  51011\n",
       "recorded_by            59400      1  GeoData Consultants Ltd  59400\n",
       "scheme_management      55523     12                      VWC  36793\n",
       "scheme_name            31234   2696                        K    682\n",
       "permit                 56344      2                     True  38852\n",
       "extraction_type        59400     18                  gravity  26780\n",
       "extraction_type_group  59400     13                  gravity  26780\n",
       "extraction_type_class  59400      7                  gravity  26780\n",
       "management             59400     12                      vwc  40507\n",
       "management_group       59400      5               user-group  52490\n",
       "payment                59400      7                never pay  25348\n",
       "payment_type           59400      7                never pay  25348\n",
       "water_quality          59400      8                     soft  50818\n",
       "quality_group          59400      6                     good  50818\n",
       "quantity               59400      5                   enough  33186\n",
       "quantity_group         59400      5                   enough  33186\n",
       "source                 59400     10                   spring  17021\n",
       "source_type            59400      7                   spring  17021\n",
       "source_class           59400      3              groundwater  45794\n",
       "waterpoint_type        59400      7       communal standpipe  28522\n",
       "waterpoint_type_group  59400      6       communal standpipe  34625"
      ]
     },
     "execution_count": 7,
     "metadata": {},
     "output_type": "execute_result"
    }
   ],
   "source": [
    "X.describe(include=[object]).T"
   ]
  },
  {
   "cell_type": "markdown",
   "id": "64bcd13f-d477-4e11-91ef-ce4c9ba0f1aa",
   "metadata": {
    "tags": []
   },
   "source": [
    "### Identify Missing Values"
   ]
  },
  {
   "cell_type": "code",
   "execution_count": 8,
   "id": "68410b41-66b7-4c66-9ca1-b2c992f5766d",
   "metadata": {},
   "outputs": [
    {
     "data": {
      "text/plain": [
       "<AxesSubplot:>"
      ]
     },
     "execution_count": 8,
     "metadata": {},
     "output_type": "execute_result"
    },
    {
     "data": {
      "image/png": "[encoded data removed]",
      "text/plain": [
       "<Figure size 432x288 with 1 Axes>"
      ]
     },
     "metadata": {
      "needs_background": "light"
     },
     "output_type": "display_data"
    }
   ],
   "source": [
    "missing_vals=X.isnull().sum()\n",
    "missing_vals=missing_vals[missing_vals > 0]\n",
    "sns.barplot(x=missing_vals.values, y=missing_vals.index, color='b')"
   ]
  },
  {
   "cell_type": "markdown",
   "id": "f0c2d071-a730-4bed-946a-efc2f1dd60d7",
   "metadata": {},
   "source": [
    "There are 7 categorical columns with missing values. Almost 50% of the values are missing from `scheme_name`."
   ]
  },
  {
   "cell_type": "markdown",
   "id": "b8191ce7-8b5c-4894-9677-0e84d1cfab5b",
   "metadata": {},
   "source": [
    "In addition, from the numerical columns `amount_tsh`, `num_private`, `population`, and `construction_year` have more than 25% of the values as 0. (This can be observed from the fact that for all these columns, the min value and the 25th percentile are both 0). It is highly likely that these are recorded as 0 because the actual values are missing. "
   ]
  },
  {
   "cell_type": "markdown",
   "id": "fa2022ac-887a-4bc6-b1a3-a2bb43d452a9",
   "metadata": {},
   "source": [
    "### Identify Mostly Unique Columns"
   ]
  },
  {
   "cell_type": "markdown",
   "id": "3fdb086b-ee99-4cee-8c50-5a732d185fe3",
   "metadata": {},
   "source": [
    "Based on column header names and description, the following columns can be identified as unique columns.\n",
    "- `id`\n",
    "- `wpt_name`\n",
    "- `num_private`\n",
    "\n",
    "In addition, based on inspection on categorical columns, following column can also be identified as mostly unique.\n",
    "- `subvillage`"
   ]
  },
  {
   "cell_type": "markdown",
   "id": "18e2211d-f658-4f29-b4f6-5f0794585db5",
   "metadata": {
    "tags": []
   },
   "source": [
    "### Features with Promising Prospects"
   ]
  },
  {
   "cell_type": "markdown",
   "id": "8792974d-6d81-47ab-b599-8f0027e69599",
   "metadata": {},
   "source": [
    "#### `construction_year`"
   ]
  },
  {
   "cell_type": "markdown",
   "id": "8c90e042-0253-4600-9b89-4947c6d47d6a",
   "metadata": {},
   "source": [
    "Intuitively, we can think that a pump is more likely to fail when its old. Following plot shows that this intuitive understanding is valid. "
   ]
  },
  {
   "cell_type": "code",
   "execution_count": 9,
   "id": "836a3b5a-8e37-4eea-a7e1-b189e1a5f825",
   "metadata": {},
   "outputs": [
    {
     "data": {
      "text/plain": [
       "<AxesSubplot:xlabel='count', ylabel='construction_year'>"
      ]
     },
     "execution_count": 9,
     "metadata": {},
     "output_type": "execute_result"
    },
    {
     "data": {
      "image/png": "[encoded data removed]",
      "text/plain": [
       "<Figure size 1080x1800 with 1 Axes>"
      ]
     },
     "metadata": {
      "needs_background": "light"
     },
     "output_type": "display_data"
    }
   ],
   "source": [
    "plt.figure(figsize=(15,25))\n",
    "sns.countplot(y=\"construction_year\", hue=\"status_group\", data=X_y[-(X_y.construction_year == 0)])"
   ]
  },
  {
   "cell_type": "markdown",
   "id": "c54476d8-35f2-47ff-b200-982d8623b4f7",
   "metadata": {},
   "source": [
    "#### `funder`"
   ]
  },
  {
   "cell_type": "markdown",
   "id": "39ffdb6d-1590-40e8-82d6-222c7b94a35c",
   "metadata": {},
   "source": [
    "It is reasonable to assume that the `funder` could affect the sate of the pumps because some funders may promptly pay for repairs while other may delay or not pay at all.\n",
    "\n",
    "However according to the inspection done on categorical columns, there are 1897 unique values for funder. Therefore considering all funders is not possible. Threfore we'll consider the top 10 funders only "
   ]
  },
  {
   "cell_type": "code",
   "execution_count": 10,
   "id": "5a067251-241e-4b7a-8142-4f9a22fcfeb7",
   "metadata": {},
   "outputs": [
    {
     "data": {
      "text/plain": [
       "<AxesSubplot:xlabel='count', ylabel='funder'>"
      ]
     },
     "execution_count": 10,
     "metadata": {},
     "output_type": "execute_result"
    },
    {
     "data": {
      "image/png": "[encoded data removed]",
      "text/plain": [
       "<Figure size 432x288 with 1 Axes>"
      ]
     },
     "metadata": {
      "needs_background": "light"
     },
     "output_type": "display_data"
    }
   ],
   "source": [
    "sns.countplot(y=\"funder\", hue=\"status_group\", data=X_y, order=X_y.funder.value_counts().iloc[:10].index)"
   ]
  },
  {
   "cell_type": "markdown",
   "id": "e63c0f53-1238-4240-8323-2d1d36bd645c",
   "metadata": {},
   "source": [
    "It is evident that out of the pumps funded by Govt. of Tanzania, Hesawa, World Bank, and, Distric councils, majority are non functional."
   ]
  },
  {
   "cell_type": "code",
   "execution_count": 11,
   "id": "7fd53600-3b63-4f5a-b5f2-73ef54f5f696",
   "metadata": {},
   "outputs": [
    {
     "data": {
      "text/plain": [
       "['0',\n",
       " 'A/co Germany',\n",
       " 'Aar',\n",
       " 'Abas Ka',\n",
       " 'Abasia',\n",
       " 'Abc-ihushi Development Cent',\n",
       " 'Abd',\n",
       " 'Abdala',\n",
       " 'Abddwe',\n",
       " 'Abdul',\n",
       " 'Abood',\n",
       " 'Abs',\n",
       " 'Aco/germany',\n",
       " 'Acord',\n",
       " 'Acord Ngo',\n",
       " 'Acra',\n",
       " 'Act',\n",
       " 'Act Mara',\n",
       " 'Action Aid',\n",
       " 'Action Contre La Faim',\n",
       " 'Action In A',\n",
       " 'Adap',\n",
       " 'Adb',\n",
       " 'Adf',\n",
       " 'Adp',\n",
       " 'Adp Bungu',\n",
       " 'Adp Mombo',\n",
       " 'Adp/w',\n",
       " 'Adra',\n",
       " 'Af',\n",
       " 'Afdp',\n",
       " 'Afric',\n",
       " 'Africa',\n",
       " 'Africa 2000 Network/undp',\n",
       " 'Africa Amini Alama',\n",
       " 'Africa Project Ev Germany',\n",
       " 'African',\n",
       " 'African 2000 Network',\n",
       " 'African Barrick Gold',\n",
       " 'African Development Bank',\n",
       " 'African Development Foundation',\n",
       " 'African Muslim Agency',\n",
       " 'African Realief Committe Of Ku',\n",
       " 'African Reflections Foundation',\n",
       " 'African Relie',\n",
       " 'Africaone Ltd',\n",
       " 'Africare',\n",
       " 'Afriican Reli',\n",
       " 'Afroz Ismail',\n",
       " 'Afya Department Lindi Rural',\n",
       " 'Agape Churc',\n",
       " 'Agt Church',\n",
       " 'Ahmadia',\n",
       " 'Ai',\n",
       " 'Aic',\n",
       " 'Aic Church',\n",
       " 'Aic Kij',\n",
       " 'Aict',\n",
       " 'Aimgold',\n",
       " 'Aixos',\n",
       " 'Alia',\n",
       " 'Ambwene Mwaikek',\n",
       " 'Amref',\n",
       " 'Amrefe',\n",
       " 'Anglican Church',\n",
       " 'Angrikana',\n",
       " 'Anjuman E Seifee',\n",
       " 'Answeer Muslim Grou',\n",
       " 'Apm',\n",
       " 'Apm[africa Precious Metals Lt',\n",
       " 'Aqua Blues Angels',\n",
       " 'Arab Community',\n",
       " 'Arabi',\n",
       " 'Arabs Community',\n",
       " 'Ardhi Instute',\n",
       " 'Area',\n",
       " 'Artisan',\n",
       " 'Asb',\n",
       " 'Asdp',\n",
       " 'Asgerali N Bharwan',\n",
       " 'Auwasa',\n",
       " 'Awf',\n",
       " 'B.A.P',\n",
       " 'Ba As',\n",
       " 'Babtest',\n",
       " 'Babtist',\n",
       " 'Bahewasa',\n",
       " 'Bahresa',\n",
       " 'Bakari Chimkube',\n",
       " 'Bakwata',\n",
       " 'Ballo',\n",
       " 'Balo',\n",
       " 'Balyehe',\n",
       " 'Banca Reale',\n",
       " 'Bank',\n",
       " 'Bao',\n",
       " 'Baptist Church',\n",
       " 'Baric',\n",
       " 'Bathlomew Vicent',\n",
       " 'Batist Church']"
      ]
     },
     "execution_count": 11,
     "metadata": {},
     "output_type": "execute_result"
    }
   ],
   "source": [
    "sorted(X_y.funder.astype(str).unique(), key=str.lower)[:100]"
   ]
  },
  {
   "cell_type": "markdown",
   "id": "fda9c0b2-1ced-4037-a476-3885c3723de6",
   "metadata": {},
   "source": [
    "It is clear from inspection that some of the unique values are caused due to spelling errors and data entry errors (eg: 'African Relie' most likely an errorneous entry for 'African Realief Committe Of Ku')"
   ]
  },
  {
   "cell_type": "markdown",
   "id": "c0990c7f-7c51-4fce-8b7e-46557d348417",
   "metadata": {},
   "source": [
    "#### `installer`"
   ]
  },
  {
   "cell_type": "markdown",
   "id": "36e09a20-7f07-4bdb-85e8-e907a0b0f120",
   "metadata": {},
   "source": [
    "`installer` is also highly likely to affect the state of the pumps due to the change of quality of installation amognst different installers. \n",
    "\n",
    "In this case also, there are 2145 unique values. We'll consider the top 10 installers only."
   ]
  },
  {
   "cell_type": "code",
   "execution_count": 12,
   "id": "769732eb-bea7-458f-b912-24f835385746",
   "metadata": {},
   "outputs": [
    {
     "data": {
      "text/plain": [
       "<AxesSubplot:xlabel='count', ylabel='installer'>"
      ]
     },
     "execution_count": 12,
     "metadata": {},
     "output_type": "execute_result"
    },
    {
     "data": {
      "image/png": "[encoded data removed]",
      "text/plain": [
       "<Figure size 432x288 with 1 Axes>"
      ]
     },
     "metadata": {
      "needs_background": "light"
     },
     "output_type": "display_data"
    }
   ],
   "source": [
    "sns.countplot(y=\"installer\", hue=\"status_group\", data=X_y, order=X_y.installer.value_counts().iloc[:10].index)"
   ]
  },
  {
   "cell_type": "markdown",
   "id": "88012790-4ade-44ce-b7b3-0ba64c3c8ab2",
   "metadata": {},
   "source": [
    "A majority of the pumps installed by Gvernment, RWE, TCRS, and, Central Government are non functional. \n",
    "\n",
    "(0 indicates missing values)"
   ]
  },
  {
   "cell_type": "code",
   "execution_count": 13,
   "id": "548865f2-cff1-47c8-999d-1191d4cef660",
   "metadata": {},
   "outputs": [
    {
     "data": {
      "text/plain": [
       "['-',\n",
       " '0',\n",
       " 'A.D.B',\n",
       " 'AAR',\n",
       " 'Aartisa',\n",
       " 'ABASIA',\n",
       " 'ABD',\n",
       " 'ABDALA',\n",
       " 'Abdallah Ally Wazir',\n",
       " 'ABDUL',\n",
       " 'AC',\n",
       " 'Accra',\n",
       " 'ACORD',\n",
       " 'ACRA',\n",
       " 'ACT',\n",
       " 'ACT MARA',\n",
       " 'ACTION AID',\n",
       " 'Action Aid',\n",
       " 'Action Contre La Faim',\n",
       " 'Action Contre la Faim',\n",
       " 'Active KMK',\n",
       " 'Active MKM',\n",
       " 'ACTIVE TANK CO',\n",
       " 'ACTIVE TANK CO LTD',\n",
       " 'AD',\n",
       " 'Adam',\n",
       " 'Adam Kea',\n",
       " 'Adam mualuaka',\n",
       " 'ADAP',\n",
       " 'ADB',\n",
       " 'ADP',\n",
       " 'ADP Busangi',\n",
       " 'Adra',\n",
       " 'ADRA',\n",
       " 'Adra /Community',\n",
       " 'ADRA /Government',\n",
       " 'Adra/ Community',\n",
       " 'Adra/Community',\n",
       " 'ADRA/Government',\n",
       " 'Adrs',\n",
       " 'AF',\n",
       " 'Af',\n",
       " 'Africa',\n",
       " 'AFRICA',\n",
       " 'Africa Amini Alama',\n",
       " 'Africa Islamic Agency Tanzania',\n",
       " 'Africa M',\n",
       " 'AFRICA MUSLIM',\n",
       " 'Africa Muslim Agenc',\n",
       " 'AFRICAN DEVELOPMENT FOUNDATION',\n",
       " 'African Muslims Age',\n",
       " 'African Realief Committe of Ku',\n",
       " 'AFRICAN REFLECTIONS FOUNDATION',\n",
       " 'Africaone',\n",
       " 'Africaone Ltd',\n",
       " 'Africare',\n",
       " 'Afroz Ismail',\n",
       " 'AGRICAN',\n",
       " 'Ahmad',\n",
       " 'AI',\n",
       " 'AIC',\n",
       " 'AIC KI',\n",
       " 'AICT',\n",
       " 'AIMGOLD',\n",
       " 'AIXOS',\n",
       " 'Al Ha',\n",
       " 'Alex moyela',\n",
       " 'ALIA',\n",
       " 'ALLYS',\n",
       " 'Altai Co. ltd',\n",
       " 'Amadi',\n",
       " 'Amari',\n",
       " 'Amboni Plantation',\n",
       " 'Amboni plantation',\n",
       " 'Ambrose',\n",
       " 'ambwene mwaikeke',\n",
       " 'Amec',\n",
       " 'American',\n",
       " 'AMP Contract',\n",
       " 'AMP contractor',\n",
       " 'AMP Contracts',\n",
       " 'Amref',\n",
       " 'AMREF',\n",
       " 'Angli',\n",
       " 'ANGLI',\n",
       " 'Anglica Church',\n",
       " 'Anglican',\n",
       " 'Anglican Church',\n",
       " 'Anglican church',\n",
       " 'Anglican Uganda',\n",
       " 'anglican Uganda',\n",
       " 'Anglikan',\n",
       " 'Anglikana',\n",
       " 'ANGLIKANA CHURCH',\n",
       " 'ANGRIKANA',\n",
       " 'Angrikana',\n",
       " 'Ansnani Murij',\n",
       " 'ANSWAR',\n",
       " 'APM',\n",
       " 'AQAL']"
      ]
     },
     "execution_count": 13,
     "metadata": {},
     "output_type": "execute_result"
    }
   ],
   "source": [
    "sorted(X_y.installer.astype(str).unique(), key=str.lower)[:100]"
   ]
  },
  {
   "cell_type": "markdown",
   "id": "ae237919-e8c0-4f87-8ce0-cbc9f571699a",
   "metadata": {},
   "source": [
    "Similar to funder, It is clear from inspection that some of the unique values are caused due to spelling errors and data entry errors (eg: 'Action Contre La Faim' and 'Action Contre la Faim' are the same installer)"
   ]
  },
  {
   "cell_type": "markdown",
   "id": "43e8c520-e207-45d1-a9c3-3a10f65443f9",
   "metadata": {},
   "source": [
    "#### `basin`"
   ]
  },
  {
   "cell_type": "markdown",
   "id": "4b409d0d-a746-4b0a-b82e-3ffe8bd79c71",
   "metadata": {},
   "source": [
    "On the argument that basin can affect water purity which then can affect the lifespan of a pump, we can think that `basin` can also correlate with functional status of a pump.   "
   ]
  },
  {
   "cell_type": "code",
   "execution_count": 14,
   "id": "4d40f6de-8933-404d-b46d-22913bec713e",
   "metadata": {},
   "outputs": [
    {
     "data": {
      "text/plain": [
       "<matplotlib.legend.Legend at 0x7fd95d265f10>"
      ]
     },
     "execution_count": 14,
     "metadata": {},
     "output_type": "execute_result"
    },
    {
     "data": {
      "image/png": "[encoded data removed]",
      "text/plain": [
       "<Figure size 432x288 with 1 Axes>"
      ]
     },
     "metadata": {
      "needs_background": "light"
     },
     "output_type": "display_data"
    }
   ],
   "source": [
    "sns.countplot(y=\"basin\", hue=\"status_group\", data=X_y)\n",
    "plt.legend(bbox_to_anchor=(1.05, 1), loc=2, borderaxespad=0.)"
   ]
  },
  {
   "cell_type": "markdown",
   "id": "f7a4ad7b-bab2-4fe4-9d5a-3d9c0db62b3f",
   "metadata": {},
   "source": [
    "A majority of the pumps which belong to Rawuma and Lake Rukwa are non functional. "
   ]
  },
  {
   "cell_type": "markdown",
   "id": "aa00c433-e8fc-46cd-9919-c32e58f5ac8d",
   "metadata": {},
   "source": [
    "#### `quality_group`"
   ]
  },
  {
   "cell_type": "markdown",
   "id": "ef5915c3-ce7e-47a1-84e3-5c5dcea0d66d",
   "metadata": {},
   "source": [
    "Using an argument similar to that of `basin`, we can assume `quality_group` also might affect the operational status of a pump."
   ]
  },
  {
   "cell_type": "code",
   "execution_count": 15,
   "id": "02607b08-b789-4038-beec-f9f1d8fd3144",
   "metadata": {},
   "outputs": [
    {
     "data": {
      "text/plain": [
       "<AxesSubplot:xlabel='count', ylabel='quality_group'>"
      ]
     },
     "execution_count": 15,
     "metadata": {},
     "output_type": "execute_result"
    },
    {
     "data": {
      "image/png": "[encoded data removed]",
      "text/plain": [
       "<Figure size 1080x360 with 1 Axes>"
      ]
     },
     "metadata": {
      "needs_background": "light"
     },
     "output_type": "display_data"
    }
   ],
   "source": [
    "plt.figure(figsize=(15,5))\n",
    "sns.countplot(y=\"quality_group\", hue=\"status_group\", data=X_y)"
   ]
  },
  {
   "cell_type": "markdown",
   "id": "2c982052-7f5b-47cd-9baf-b9a8134687d9",
   "metadata": {},
   "source": [
    "A larger portion of pumps in unknown `quality_ group` are non functional. Majority out of the pumps belong to salty `quality_group` are also non functional."
   ]
  },
  {
   "cell_type": "markdown",
   "id": "d5bf255d-997d-45e8-845d-2b691992f199",
   "metadata": {},
   "source": [
    "#### `quantity_group`"
   ]
  },
  {
   "cell_type": "markdown",
   "id": "96dbd279-20e4-4753-8082-8fae47485f74",
   "metadata": {},
   "source": [
    "Similar to quality, the amout of water available to the pumps, i.e `quantity_group` may also affect the status of a pump."
   ]
  },
  {
   "cell_type": "code",
   "execution_count": 16,
   "id": "1b826f75-f038-4575-9f4a-befb65b2b4d4",
   "metadata": {},
   "outputs": [
    {
     "data": {
      "text/plain": [
       "<AxesSubplot:xlabel='count', ylabel='quantity_group'>"
      ]
     },
     "execution_count": 16,
     "metadata": {},
     "output_type": "execute_result"
    },
    {
     "data": {
      "image/png": "[encoded data removed]",
      "text/plain": [
       "<Figure size 432x288 with 1 Axes>"
      ]
     },
     "metadata": {
      "needs_background": "light"
     },
     "output_type": "display_data"
    }
   ],
   "source": [
    "sns.countplot(y=\"quantity_group\", hue=\"status_group\", data=X_y)"
   ]
  },
  {
   "cell_type": "markdown",
   "id": "ef616249-8fe6-4c5b-b1ae-3d9b2f8f06ba",
   "metadata": {},
   "source": [
    "It is clear that almost all the pumps in dry condition are non functional. A significant majority of pumps with unknown `quality_group` are also non-functional."
   ]
  },
  {
   "cell_type": "markdown",
   "id": "c79af8a5-ede2-4db9-a733-fbc1b214420e",
   "metadata": {},
   "source": [
    "### Identifying Similar and Correlated Features"
   ]
  },
  {
   "cell_type": "markdown",
   "id": "d885f845-a869-43b1-a4ef-9874a6d976d5",
   "metadata": {},
   "source": [
    "#### Features related to the Geographical location"
   ]
  },
  {
   "cell_type": "markdown",
   "id": "889a8d08-3e3a-4c09-ad0a-bd510a41ddce",
   "metadata": {},
   "source": [
    "`gps_height`, `longitude`, `latitude`, `subvillage`, `region`, `region_code`, `district_code`, `lga`, and `ward` are all related to the geographical location of the waterpoint. "
   ]
  },
  {
   "cell_type": "code",
   "execution_count": 17,
   "id": "66cac65e-a7d9-414d-8dd7-6f394ee44117",
   "metadata": {},
   "outputs": [
    {
     "data": {
      "text/plain": [
       "<AxesSubplot:>"
      ]
     },
     "execution_count": 17,
     "metadata": {},
     "output_type": "execute_result"
    },
    {
     "data": {
      "image/png": "[encoded data removed]",
      "text/plain": [
       "<Figure size 432x288 with 2 Axes>"
      ]
     },
     "metadata": {
      "needs_background": "light"
     },
     "output_type": "display_data"
    }
   ],
   "source": [
    "num_geographic_features = ['gps_height', \n",
    "                       'longitude', \n",
    "                       'latitude']\n",
    "\n",
    "cat_geographic_features = ['subvillage', \n",
    "                       'region', \n",
    "                       'region_code', \n",
    "                       'district_code',\n",
    "                       'lga',\n",
    "                       'ward']\n",
    "\n",
    "num_geo_X = X[num_geographic_features]\n",
    "cat_geo_X = X[cat_geographic_features].apply(lambda x: x.factorize()[0]) # get numeric representation of categorical values\n",
    "\n",
    "geo_X = num_geo_X.merge(cat_geo_X, left_index=True, right_index=True)\n",
    "\n",
    "sns.heatmap(geo_X.corr(), cmap=\"YlGnBu\", annot=True)"
   ]
  },
  {
   "cell_type": "markdown",
   "id": "448cc683-b484-4fa9-aa25-93321efcccf4",
   "metadata": {},
   "source": [
    "As expected, some features show strong coorelation. Especially features like `region` and `region_code` (unsuprisingly). \n",
    "However, there are some correlerations that are not accurately captured in the heatmap as well. For a given region, the (latitude, logitude) pairs that belong to the same region should be close together. But it is not captured that well here because we have not considered ranges for latitudes and longitudes. "
   ]
  },
  {
   "cell_type": "markdown",
   "id": "bff5c442-0715-432c-8577-c7cebdc15d26",
   "metadata": {},
   "source": [
    "We'll further explore the numerical geographical feature to investigate about outliers."
   ]
  },
  {
   "cell_type": "code",
   "execution_count": 35,
   "id": "06601e2d-2747-477a-a5d8-5c5a1aa85c91",
   "metadata": {},
   "outputs": [
    {
     "data": {
      "text/plain": [
       "<AxesSubplot:xlabel='gps_height'>"
      ]
     },
     "execution_count": 35,
     "metadata": {},
     "output_type": "execute_result"
    },
    {
     "data": {
      "image/png": "[encoded data removed]",
      "text/plain": [
       "<Figure size 432x288 with 1 Axes>"
      ]
     },
     "metadata": {
      "needs_background": "light"
     },
     "output_type": "display_data"
    }
   ],
   "source": [
    "sns.boxplot(x=X['gps_height'])"
   ]
  },
  {
   "cell_type": "code",
   "execution_count": 36,
   "id": "bf47160b-3485-4251-b497-48335716960b",
   "metadata": {},
   "outputs": [
    {
     "data": {
      "text/plain": [
       "<AxesSubplot:xlabel='longitude'>"
      ]
     },
     "execution_count": 36,
     "metadata": {},
     "output_type": "execute_result"
    },
    {
     "data": {
      "image/png": "[encoded data removed]",
      "text/plain": [
       "<Figure size 432x288 with 1 Axes>"
      ]
     },
     "metadata": {
      "needs_background": "light"
     },
     "output_type": "display_data"
    }
   ],
   "source": [
    "sns.boxplot(x=X['longitude'])"
   ]
  },
  {
   "cell_type": "code",
   "execution_count": 37,
   "id": "61838fc1-3ed3-4c2e-a7ee-773b591dfb76",
   "metadata": {},
   "outputs": [
    {
     "data": {
      "text/plain": [
       "<AxesSubplot:xlabel='latitude'>"
      ]
     },
     "execution_count": 37,
     "metadata": {},
     "output_type": "execute_result"
    },
    {
     "data": {
      "image/png": "[encoded data removed]",
      "text/plain": [
       "<Figure size 432x288 with 1 Axes>"
      ]
     },
     "metadata": {
      "needs_background": "light"
     },
     "output_type": "display_data"
    }
   ],
   "source": [
    "sns.boxplot(x=X['latitude'])"
   ]
  },
  {
   "cell_type": "markdown",
   "id": "797935fb-8c7e-4dbe-a513-d6f7bf073ec8",
   "metadata": {},
   "source": [
    "#### Features related to Operation and Management"
   ]
  },
  {
   "cell_type": "markdown",
   "id": "098966ad-72b0-4d80-9394-51972d710b48",
   "metadata": {},
   "source": [
    "`scheme_management`, `scheme_name`, `management`, and `management_group` are related to operation and management of the waterpoint. "
   ]
  },
  {
   "cell_type": "code",
   "execution_count": 18,
   "id": "c974c08b-689b-4981-8e4b-fafcdd2a71da",
   "metadata": {},
   "outputs": [
    {
     "data": {
      "text/plain": [
       "<AxesSubplot:>"
      ]
     },
     "execution_count": 18,
     "metadata": {},
     "output_type": "execute_result"
    },
    {
     "data": {
      "image/png": "[encoded data removed]",
      "text/plain": [
       "<Figure size 432x288 with 2 Axes>"
      ]
     },
     "metadata": {
      "needs_background": "light"
     },
     "output_type": "display_data"
    }
   ],
   "source": [
    "op_mgmt_features = ['scheme_management', \n",
    "                       'scheme_name', \n",
    "                       'management', \n",
    "                       'management_group']\n",
    "\n",
    "op_mgmt_X = X[op_mgmt_features].apply(lambda x: x.factorize()[0]) # get numeric representation of categorical values\n",
    "\n",
    "sns.heatmap(op_mgmt_X.corr(), cmap=\"YlGnBu\", annot=True)"
   ]
  },
  {
   "cell_type": "markdown",
   "id": "0c781ece-9572-4c51-a1ad-4a6b5729c111",
   "metadata": {},
   "source": [
    "As it can be seen, `scheme_management` and `management_group` are closely correlated with `management`."
   ]
  },
  {
   "cell_type": "markdown",
   "id": "90a788e9-79f4-49be-b00b-5bca1aabde1a",
   "metadata": {},
   "source": [
    "#### Features related to Extraction Type"
   ]
  },
  {
   "cell_type": "markdown",
   "id": "b20d9dec-c9c0-4d0f-9d98-95839ddc9881",
   "metadata": {},
   "source": [
    "`extraction_type`, `extraction_type_group`, and `extraction_type_class` are related to extraction type."
   ]
  },
  {
   "cell_type": "code",
   "execution_count": 19,
   "id": "e8f5128c-3ac1-4f99-a49a-9915090900b1",
   "metadata": {},
   "outputs": [
    {
     "data": {
      "text/plain": [
       "<AxesSubplot:>"
      ]
     },
     "execution_count": 19,
     "metadata": {},
     "output_type": "execute_result"
    },
    {
     "data": {
      "image/png": "[encoded data removed]",
      "text/plain": [
       "<Figure size 432x288 with 2 Axes>"
      ]
     },
     "metadata": {
      "needs_background": "light"
     },
     "output_type": "display_data"
    }
   ],
   "source": [
    "extr_features = ['extraction_type', \n",
    "                       'extraction_type_group', \n",
    "                       'extraction_type_class']\n",
    "\n",
    "extr_X = X[extr_features].apply(lambda x: x.factorize()[0]) # get numeric representation of categorical values\n",
    "\n",
    "sns.heatmap(extr_X.corr(), cmap=\"YlGnBu\", annot=True)"
   ]
  },
  {
   "cell_type": "markdown",
   "id": "302e8c1d-e1a7-465d-9ae0-7991850f9624",
   "metadata": {},
   "source": [
    "As it can be seen, `extraction_type` and `extraction_type_class` are very closely correlated with `extraction_type_group`."
   ]
  },
  {
   "cell_type": "markdown",
   "id": "0cf78a35-43ca-42dd-ad22-f3e31ed6174e",
   "metadata": {},
   "source": [
    "#### Features related to Cost"
   ]
  },
  {
   "cell_type": "markdown",
   "id": "f31413e8-335a-4c3e-993f-774cc30bbdbb",
   "metadata": {},
   "source": [
    "`payment`, and `payment_type` are related to what the water costs."
   ]
  },
  {
   "cell_type": "code",
   "execution_count": 20,
   "id": "af24ac4e-ebdb-4638-b4c1-8da9eca04165",
   "metadata": {},
   "outputs": [
    {
     "data": {
      "text/plain": [
       "<AxesSubplot:>"
      ]
     },
     "execution_count": 20,
     "metadata": {},
     "output_type": "execute_result"
    },
    {
     "data": {
      "image/png": "[encoded data removed]",
      "text/plain": [
       "<Figure size 432x288 with 2 Axes>"
      ]
     },
     "metadata": {
      "needs_background": "light"
     },
     "output_type": "display_data"
    }
   ],
   "source": [
    "cost_features = ['payment', \n",
    "                       'payment_type']\n",
    "\n",
    "cost_X = X[cost_features].apply(lambda x: x.factorize()[0]) # get numeric representation of categorical values\n",
    "\n",
    "sns.heatmap(cost_X.corr(), cmap=\"YlGnBu\", annot=True)"
   ]
  },
  {
   "cell_type": "markdown",
   "id": "5d1f6a0e-3536-4fb3-bcc2-4f1054e7ec7f",
   "metadata": {},
   "source": [
    "Based on the correlation, it appears that `payment` is duplicated as `payment_type`. To further confirm that the infomation is duplicated, we'll inspect the corresponding columns in the original dataset."
   ]
  },
  {
   "cell_type": "code",
   "execution_count": 21,
   "id": "7eb4625d-bb8c-40ee-9710-e10425e9d873",
   "metadata": {},
   "outputs": [
    {
     "data": {
      "text/html": [
       "<div>\n",
       "<style scoped>\n",
       "    .dataframe tbody tr th:only-of-type {\n",
       "        vertical-align: middle;\n",
       "    }\n",
       "\n",
       "    .dataframe tbody tr th {\n",
       "        vertical-align: top;\n",
       "    }\n",
       "\n",
       "    .dataframe thead th {\n",
       "        text-align: right;\n",
       "    }\n",
       "</style>\n",
       "<table border=\"1\" class=\"dataframe\">\n",
       "  <thead>\n",
       "    <tr style=\"text-align: right;\">\n",
       "      <th></th>\n",
       "      <th>payment</th>\n",
       "      <th>payment_type</th>\n",
       "    </tr>\n",
       "  </thead>\n",
       "  <tbody>\n",
       "    <tr>\n",
       "      <th>0</th>\n",
       "      <td>pay annually</td>\n",
       "      <td>annually</td>\n",
       "    </tr>\n",
       "    <tr>\n",
       "      <th>1</th>\n",
       "      <td>never pay</td>\n",
       "      <td>never pay</td>\n",
       "    </tr>\n",
       "    <tr>\n",
       "      <th>2</th>\n",
       "      <td>pay per bucket</td>\n",
       "      <td>per bucket</td>\n",
       "    </tr>\n",
       "    <tr>\n",
       "      <th>3</th>\n",
       "      <td>never pay</td>\n",
       "      <td>never pay</td>\n",
       "    </tr>\n",
       "    <tr>\n",
       "      <th>4</th>\n",
       "      <td>never pay</td>\n",
       "      <td>never pay</td>\n",
       "    </tr>\n",
       "    <tr>\n",
       "      <th>5</th>\n",
       "      <td>pay per bucket</td>\n",
       "      <td>per bucket</td>\n",
       "    </tr>\n",
       "    <tr>\n",
       "      <th>6</th>\n",
       "      <td>never pay</td>\n",
       "      <td>never pay</td>\n",
       "    </tr>\n",
       "    <tr>\n",
       "      <th>7</th>\n",
       "      <td>unknown</td>\n",
       "      <td>unknown</td>\n",
       "    </tr>\n",
       "    <tr>\n",
       "      <th>8</th>\n",
       "      <td>never pay</td>\n",
       "      <td>never pay</td>\n",
       "    </tr>\n",
       "    <tr>\n",
       "      <th>9</th>\n",
       "      <td>never pay</td>\n",
       "      <td>never pay</td>\n",
       "    </tr>\n",
       "    <tr>\n",
       "      <th>10</th>\n",
       "      <td>never pay</td>\n",
       "      <td>never pay</td>\n",
       "    </tr>\n",
       "    <tr>\n",
       "      <th>11</th>\n",
       "      <td>pay when scheme fails</td>\n",
       "      <td>on failure</td>\n",
       "    </tr>\n",
       "    <tr>\n",
       "      <th>12</th>\n",
       "      <td>other</td>\n",
       "      <td>other</td>\n",
       "    </tr>\n",
       "    <tr>\n",
       "      <th>13</th>\n",
       "      <td>pay monthly</td>\n",
       "      <td>monthly</td>\n",
       "    </tr>\n",
       "    <tr>\n",
       "      <th>14</th>\n",
       "      <td>never pay</td>\n",
       "      <td>never pay</td>\n",
       "    </tr>\n",
       "    <tr>\n",
       "      <th>15</th>\n",
       "      <td>never pay</td>\n",
       "      <td>never pay</td>\n",
       "    </tr>\n",
       "    <tr>\n",
       "      <th>16</th>\n",
       "      <td>pay monthly</td>\n",
       "      <td>monthly</td>\n",
       "    </tr>\n",
       "    <tr>\n",
       "      <th>17</th>\n",
       "      <td>pay when scheme fails</td>\n",
       "      <td>on failure</td>\n",
       "    </tr>\n",
       "    <tr>\n",
       "      <th>18</th>\n",
       "      <td>never pay</td>\n",
       "      <td>never pay</td>\n",
       "    </tr>\n",
       "    <tr>\n",
       "      <th>19</th>\n",
       "      <td>pay annually</td>\n",
       "      <td>annually</td>\n",
       "    </tr>\n",
       "  </tbody>\n",
       "</table>\n",
       "</div>"
      ],
      "text/plain": [
       "                  payment payment_type\n",
       "0            pay annually     annually\n",
       "1               never pay    never pay\n",
       "2          pay per bucket   per bucket\n",
       "3               never pay    never pay\n",
       "4               never pay    never pay\n",
       "5          pay per bucket   per bucket\n",
       "6               never pay    never pay\n",
       "7                 unknown      unknown\n",
       "8               never pay    never pay\n",
       "9               never pay    never pay\n",
       "10              never pay    never pay\n",
       "11  pay when scheme fails   on failure\n",
       "12                  other        other\n",
       "13            pay monthly      monthly\n",
       "14              never pay    never pay\n",
       "15              never pay    never pay\n",
       "16            pay monthly      monthly\n",
       "17  pay when scheme fails   on failure\n",
       "18              never pay    never pay\n",
       "19           pay annually     annually"
      ]
     },
     "execution_count": 21,
     "metadata": {},
     "output_type": "execute_result"
    }
   ],
   "source": [
    "X[['payment', 'payment_type']].head(20)"
   ]
  },
  {
   "cell_type": "markdown",
   "id": "13ca48a3-7433-4b76-9212-87290699f0cd",
   "metadata": {},
   "source": [
    "It is evident that the same exact information is replicated in the 2 columns with the only difference being the name used for some categories. For example, the category 'pay per bucket' under `payment` is listed as 'per bucket' under `payment_type`. "
   ]
  },
  {
   "cell_type": "markdown",
   "id": "59f23d77-0698-4860-8b75-17abfaeea5a9",
   "metadata": {},
   "source": [
    "#### Features related to Quality"
   ]
  },
  {
   "cell_type": "markdown",
   "id": "32459bc1-2485-48b0-b300-d1c1118c4e0f",
   "metadata": {},
   "source": [
    "`water_quality`, and `quality_group` are related to the quality of water."
   ]
  },
  {
   "cell_type": "code",
   "execution_count": 22,
   "id": "36f3cb8a-9ee0-4f23-821c-14b2e669437e",
   "metadata": {},
   "outputs": [
    {
     "data": {
      "text/plain": [
       "<AxesSubplot:>"
      ]
     },
     "execution_count": 22,
     "metadata": {},
     "output_type": "execute_result"
    },
    {
     "data": {
      "image/png": "[encoded data removed]",
      "text/plain": [
       "<Figure size 432x288 with 2 Axes>"
      ]
     },
     "metadata": {
      "needs_background": "light"
     },
     "output_type": "display_data"
    }
   ],
   "source": [
    "qual_features = ['water_quality', \n",
    "                       'quality_group']\n",
    "\n",
    "qual_X = X[qual_features].apply(lambda x: x.factorize()[0]) # get numeric representation of categorical values\n",
    "\n",
    "sns.heatmap(qual_X.corr(), cmap=\"YlGnBu\", annot=True)"
   ]
  },
  {
   "cell_type": "markdown",
   "id": "cb01ae71-6b9e-44b1-8bd0-f4ced6fcf6b6",
   "metadata": {},
   "source": [
    "The 2 features are again extremly correlated."
   ]
  },
  {
   "cell_type": "code",
   "execution_count": 23,
   "id": "b09b7910-687a-41ca-a35d-b48b690359b1",
   "metadata": {},
   "outputs": [
    {
     "data": {
      "text/plain": [
       "<AxesSubplot:xlabel='count', ylabel='water_quality'>"
      ]
     },
     "execution_count": 23,
     "metadata": {},
     "output_type": "execute_result"
    },
    {
     "data": {
      "image/png": "[encoded data removed]",
      "text/plain": [
       "<Figure size 432x288 with 1 Axes>"
      ]
     },
     "metadata": {
      "needs_background": "light"
     },
     "output_type": "display_data"
    }
   ],
   "source": [
    "sns.countplot(y=\"water_quality\", data=X)"
   ]
  },
  {
   "cell_type": "code",
   "execution_count": 24,
   "id": "797828ef-c686-4b85-be63-ae3168b542b1",
   "metadata": {},
   "outputs": [
    {
     "data": {
      "text/plain": [
       "<AxesSubplot:xlabel='count', ylabel='quality_group'>"
      ]
     },
     "execution_count": 24,
     "metadata": {},
     "output_type": "execute_result"
    },
    {
     "data": {
      "image/png": "[encoded data removed]",
      "text/plain": [
       "<Figure size 432x288 with 1 Axes>"
      ]
     },
     "metadata": {
      "needs_background": "light"
     },
     "output_type": "display_data"
    }
   ],
   "source": [
    "sns.countplot(y=\"quality_group\", data=X)"
   ]
  },
  {
   "cell_type": "markdown",
   "id": "49749676-d0ce-4c4a-aad3-8c9f562ca98b",
   "metadata": {},
   "source": [
    "It can be seen that `water_quality`, and `quality_group` contains identical information except that in `water_quality`, 'salty' and 'fluoride' have additional subcategories to differentiate between abandoned and non-abandoned. "
   ]
  },
  {
   "cell_type": "markdown",
   "id": "f08017af-de0e-430a-bf51-94b0bf87da20",
   "metadata": {},
   "source": [
    "#### Features related to Quantity"
   ]
  },
  {
   "cell_type": "markdown",
   "id": "e233d606-accd-4d63-89a5-24741bf4d9a1",
   "metadata": {},
   "source": [
    "`quantity`, and `quantity_group` are related to the quantity of water."
   ]
  },
  {
   "cell_type": "code",
   "execution_count": 25,
   "id": "508671fc-bb97-457c-bfb5-2458a44ad7b7",
   "metadata": {},
   "outputs": [
    {
     "data": {
      "text/plain": [
       "<AxesSubplot:>"
      ]
     },
     "execution_count": 25,
     "metadata": {},
     "output_type": "execute_result"
    },
    {
     "data": {
      "image/png": "[encoded data removed]",
      "text/plain": [
       "<Figure size 432x288 with 2 Axes>"
      ]
     },
     "metadata": {
      "needs_background": "light"
     },
     "output_type": "display_data"
    }
   ],
   "source": [
    "quan_features = ['quantity', \n",
    "                       'quantity_group']\n",
    "\n",
    "quan_X = X[quan_features].apply(lambda x: x.factorize()[0]) # get numeric representation of categorical values\n",
    "\n",
    "sns.heatmap(quan_X.corr(), cmap=\"YlGnBu\", annot=True)"
   ]
  },
  {
   "cell_type": "markdown",
   "id": "cfee263b-2696-42f6-9a8f-3c1032a4df61",
   "metadata": {},
   "source": [
    "Based on the correlation, it appears that `quantity` is duplicated as `quantity_group`. To further confirm that the infomation is duplicated, we'll inspect the corresponding columns in the original dataset."
   ]
  },
  {
   "cell_type": "code",
   "execution_count": 26,
   "id": "791eade9-bff5-41cc-a4da-6a1bb9ab4e67",
   "metadata": {},
   "outputs": [
    {
     "data": {
      "text/html": [
       "<div>\n",
       "<style scoped>\n",
       "    .dataframe tbody tr th:only-of-type {\n",
       "        vertical-align: middle;\n",
       "    }\n",
       "\n",
       "    .dataframe tbody tr th {\n",
       "        vertical-align: top;\n",
       "    }\n",
       "\n",
       "    .dataframe thead th {\n",
       "        text-align: right;\n",
       "    }\n",
       "</style>\n",
       "<table border=\"1\" class=\"dataframe\">\n",
       "  <thead>\n",
       "    <tr style=\"text-align: right;\">\n",
       "      <th></th>\n",
       "      <th>quantity</th>\n",
       "      <th>quantity_group</th>\n",
       "    </tr>\n",
       "  </thead>\n",
       "  <tbody>\n",
       "    <tr>\n",
       "      <th>0</th>\n",
       "      <td>enough</td>\n",
       "      <td>enough</td>\n",
       "    </tr>\n",
       "    <tr>\n",
       "      <th>1</th>\n",
       "      <td>insufficient</td>\n",
       "      <td>insufficient</td>\n",
       "    </tr>\n",
       "    <tr>\n",
       "      <th>2</th>\n",
       "      <td>enough</td>\n",
       "      <td>enough</td>\n",
       "    </tr>\n",
       "    <tr>\n",
       "      <th>3</th>\n",
       "      <td>dry</td>\n",
       "      <td>dry</td>\n",
       "    </tr>\n",
       "    <tr>\n",
       "      <th>4</th>\n",
       "      <td>seasonal</td>\n",
       "      <td>seasonal</td>\n",
       "    </tr>\n",
       "    <tr>\n",
       "      <th>5</th>\n",
       "      <td>enough</td>\n",
       "      <td>enough</td>\n",
       "    </tr>\n",
       "    <tr>\n",
       "      <th>6</th>\n",
       "      <td>enough</td>\n",
       "      <td>enough</td>\n",
       "    </tr>\n",
       "    <tr>\n",
       "      <th>7</th>\n",
       "      <td>enough</td>\n",
       "      <td>enough</td>\n",
       "    </tr>\n",
       "    <tr>\n",
       "      <th>8</th>\n",
       "      <td>seasonal</td>\n",
       "      <td>seasonal</td>\n",
       "    </tr>\n",
       "    <tr>\n",
       "      <th>9</th>\n",
       "      <td>enough</td>\n",
       "      <td>enough</td>\n",
       "    </tr>\n",
       "    <tr>\n",
       "      <th>10</th>\n",
       "      <td>enough</td>\n",
       "      <td>enough</td>\n",
       "    </tr>\n",
       "    <tr>\n",
       "      <th>11</th>\n",
       "      <td>insufficient</td>\n",
       "      <td>insufficient</td>\n",
       "    </tr>\n",
       "    <tr>\n",
       "      <th>12</th>\n",
       "      <td>enough</td>\n",
       "      <td>enough</td>\n",
       "    </tr>\n",
       "    <tr>\n",
       "      <th>13</th>\n",
       "      <td>enough</td>\n",
       "      <td>enough</td>\n",
       "    </tr>\n",
       "    <tr>\n",
       "      <th>14</th>\n",
       "      <td>enough</td>\n",
       "      <td>enough</td>\n",
       "    </tr>\n",
       "    <tr>\n",
       "      <th>15</th>\n",
       "      <td>enough</td>\n",
       "      <td>enough</td>\n",
       "    </tr>\n",
       "    <tr>\n",
       "      <th>16</th>\n",
       "      <td>dry</td>\n",
       "      <td>dry</td>\n",
       "    </tr>\n",
       "    <tr>\n",
       "      <th>17</th>\n",
       "      <td>dry</td>\n",
       "      <td>dry</td>\n",
       "    </tr>\n",
       "    <tr>\n",
       "      <th>18</th>\n",
       "      <td>insufficient</td>\n",
       "      <td>insufficient</td>\n",
       "    </tr>\n",
       "    <tr>\n",
       "      <th>19</th>\n",
       "      <td>enough</td>\n",
       "      <td>enough</td>\n",
       "    </tr>\n",
       "  </tbody>\n",
       "</table>\n",
       "</div>"
      ],
      "text/plain": [
       "        quantity quantity_group\n",
       "0         enough         enough\n",
       "1   insufficient   insufficient\n",
       "2         enough         enough\n",
       "3            dry            dry\n",
       "4       seasonal       seasonal\n",
       "5         enough         enough\n",
       "6         enough         enough\n",
       "7         enough         enough\n",
       "8       seasonal       seasonal\n",
       "9         enough         enough\n",
       "10        enough         enough\n",
       "11  insufficient   insufficient\n",
       "12        enough         enough\n",
       "13        enough         enough\n",
       "14        enough         enough\n",
       "15        enough         enough\n",
       "16           dry            dry\n",
       "17           dry            dry\n",
       "18  insufficient   insufficient\n",
       "19        enough         enough"
      ]
     },
     "execution_count": 26,
     "metadata": {},
     "output_type": "execute_result"
    }
   ],
   "source": [
    "X[['quantity', 'quantity_group']].head(20)"
   ]
  },
  {
   "cell_type": "code",
   "execution_count": 27,
   "id": "a65aa1d0-653e-4e81-a2ee-2b5efa99e011",
   "metadata": {},
   "outputs": [
    {
     "data": {
      "text/plain": [
       "True"
      ]
     },
     "execution_count": 27,
     "metadata": {},
     "output_type": "execute_result"
    }
   ],
   "source": [
    "X['quantity'].equals(X['quantity_group'])"
   ]
  },
  {
   "cell_type": "markdown",
   "id": "498bef3e-4b40-4d34-aa7e-c8e234c37cf8",
   "metadata": {},
   "source": [
    "The 2 columns are exact duplicates of each other."
   ]
  },
  {
   "cell_type": "markdown",
   "id": "61cd60c0-61b7-4e27-9bc3-0e571702865e",
   "metadata": {},
   "source": [
    "#### Features related to Source"
   ]
  },
  {
   "cell_type": "markdown",
   "id": "3df1431d-1c87-444c-ab2f-2e479f82f62c",
   "metadata": {},
   "source": [
    "`source`, `source_type`, and `source_class` are related to the source of the water."
   ]
  },
  {
   "cell_type": "code",
   "execution_count": 28,
   "id": "fb4ba904-6500-4d3f-acaa-c811e36b2316",
   "metadata": {},
   "outputs": [
    {
     "data": {
      "text/plain": [
       "<AxesSubplot:>"
      ]
     },
     "execution_count": 28,
     "metadata": {},
     "output_type": "execute_result"
    },
    {
     "data": {
      "image/png": "[encoded data removed]",
      "text/plain": [
       "<Figure size 432x288 with 2 Axes>"
      ]
     },
     "metadata": {
      "needs_background": "light"
     },
     "output_type": "display_data"
    }
   ],
   "source": [
    "source_features = ['source', \n",
    "                       'source_type', \n",
    "                       'source_class']\n",
    "\n",
    "source_X = X[source_features].apply(lambda x: x.factorize()[0]) # get numeric representation of categorical values\n",
    "\n",
    "sns.heatmap(source_X.corr(), cmap=\"YlGnBu\", annot=True)"
   ]
  },
  {
   "cell_type": "markdown",
   "id": "b818748d-0913-4bd3-a149-3629b429dc4b",
   "metadata": {},
   "source": [
    "The `source` and `source_type` are extremly correlated. However `source_class` does not seem to be that closely correlated."
   ]
  },
  {
   "cell_type": "code",
   "execution_count": 29,
   "id": "13eb6101-663e-4f40-b007-6f7a3b3241a5",
   "metadata": {},
   "outputs": [
    {
     "data": {
      "text/plain": [
       "<AxesSubplot:xlabel='count', ylabel='source'>"
      ]
     },
     "execution_count": 29,
     "metadata": {},
     "output_type": "execute_result"
    },
    {
     "data": {
      "image/png": "[encoded data removed]",
      "text/plain": [
       "<Figure size 432x288 with 1 Axes>"
      ]
     },
     "metadata": {
      "needs_background": "light"
     },
     "output_type": "display_data"
    }
   ],
   "source": [
    "sns.countplot(y=\"source\", data=X)"
   ]
  },
  {
   "cell_type": "code",
   "execution_count": 30,
   "id": "1a6898d6-aa4c-447a-8dfc-38490b8b12b0",
   "metadata": {},
   "outputs": [
    {
     "data": {
      "text/plain": [
       "<AxesSubplot:xlabel='count', ylabel='source_type'>"
      ]
     },
     "execution_count": 30,
     "metadata": {},
     "output_type": "execute_result"
    },
    {
     "data": {
      "image/png": "[encoded data removed]",
      "text/plain": [
       "<Figure size 432x288 with 1 Axes>"
      ]
     },
     "metadata": {
      "needs_background": "light"
     },
     "output_type": "display_data"
    }
   ],
   "source": [
    "sns.countplot(y=\"source_type\", data=X)"
   ]
  },
  {
   "cell_type": "markdown",
   "id": "ef11214d-1500-46cd-af1f-295799458526",
   "metadata": {},
   "source": [
    "It seems that `source` is a slightly more granular classification than `source_type`. "
   ]
  },
  {
   "cell_type": "markdown",
   "id": "d4121f00-3562-4cd7-b10a-4c4685d90061",
   "metadata": {},
   "source": [
    "#### Features related to Waterpoint Type"
   ]
  },
  {
   "cell_type": "markdown",
   "id": "1b9e116b-fd93-48d2-b3b6-d2d50c159f7d",
   "metadata": {},
   "source": [
    "`waterpoint_type` and `waterpoint_type_group` are related to the type of waterpoint."
   ]
  },
  {
   "cell_type": "code",
   "execution_count": 31,
   "id": "48146c7b-ca4f-46aa-b711-520067059193",
   "metadata": {},
   "outputs": [
    {
     "data": {
      "text/plain": [
       "<AxesSubplot:>"
      ]
     },
     "execution_count": 31,
     "metadata": {},
     "output_type": "execute_result"
    },
    {
     "data": {
      "image/png": "[encoded data removed]",
      "text/plain": [
       "<Figure size 432x288 with 2 Axes>"
      ]
     },
     "metadata": {
      "needs_background": "light"
     },
     "output_type": "display_data"
    }
   ],
   "source": [
    "type_features = ['waterpoint_type', \n",
    "                       'waterpoint_type_group']\n",
    "\n",
    "type_X = X[type_features].apply(lambda x: x.factorize()[0]) # get numeric representation of categorical values\n",
    "\n",
    "sns.heatmap(type_X.corr(), cmap=\"YlGnBu\", annot=True)"
   ]
  },
  {
   "cell_type": "markdown",
   "id": "158875d4-7ea3-4142-917a-043571ed69d1",
   "metadata": {},
   "source": [
    "The 2 features are again extremly correlated."
   ]
  },
  {
   "cell_type": "code",
   "execution_count": 32,
   "id": "cac201a3-14c1-4e39-a2e9-9f5c9d4ba325",
   "metadata": {},
   "outputs": [
    {
     "data": {
      "text/plain": [
       "<AxesSubplot:xlabel='count', ylabel='waterpoint_type'>"
      ]
     },
     "execution_count": 32,
     "metadata": {},
     "output_type": "execute_result"
    },
    {
     "data": {
      "image/png": "[encoded data removed]",
      "text/plain": [
       "<Figure size 432x288 with 1 Axes>"
      ]
     },
     "metadata": {
      "needs_background": "light"
     },
     "output_type": "display_data"
    }
   ],
   "source": [
    "sns.countplot(y=\"waterpoint_type\", data=X)"
   ]
  },
  {
   "cell_type": "code",
   "execution_count": 33,
   "id": "e3cd1436-faa4-44f0-8722-64e914322ea1",
   "metadata": {},
   "outputs": [
    {
     "data": {
      "text/plain": [
       "<AxesSubplot:xlabel='count', ylabel='waterpoint_type_group'>"
      ]
     },
     "execution_count": 33,
     "metadata": {},
     "output_type": "execute_result"
    },
    {
     "data": {
      "image/png": "[encoded data removed]",
      "text/plain": [
       "<Figure size 432x288 with 1 Axes>"
      ]
     },
     "metadata": {
      "needs_background": "light"
     },
     "output_type": "display_data"
    }
   ],
   "source": [
    "sns.countplot(y=\"waterpoint_type_group\", data=X)"
   ]
  },
  {
   "cell_type": "markdown",
   "id": "67c5e511-85f6-4698-86e5-f7e9425c8fd3",
   "metadata": {},
   "source": [
    "It appears that in `waterpoint_type`, 'communal standpipe' is classified into 2 sub categories as 'communal standpipe' and 'communal standpipe multiple'"
   ]
  }
 ],
 "metadata": {
  "kernelspec": {
   "display_name": "Python 3 (ipykernel)",
   "language": "python",
   "name": "python3"
  },
  "language_info": {
   "codemirror_mode": {
    "name": "ipython",
    "version": 3
   },
   "file_extension": ".py",
   "mimetype": "text/x-python",
   "name": "python",
   "nbconvert_exporter": "python",
   "pygments_lexer": "ipython3",
   "version": "3.8.10"
  }
 },
 "nbformat": 4,
 "nbformat_minor": 5
}
