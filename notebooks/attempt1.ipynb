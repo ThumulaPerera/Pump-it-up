{
 "cells": [
  {
   "cell_type": "markdown",
   "id": "1be073ef-7b73-4954-ae51-abe0919a7312",
   "metadata": {},
   "source": [
    "## pre-processing "
   ]
  },
  {
   "cell_type": "markdown",
   "id": "cb15d4e7-9c94-4e62-9242-604036a43515",
   "metadata": {},
   "source": [
    "## feature engineering"
   ]
  },
  {
   "cell_type": "markdown",
   "id": "43654bfc-5cd5-478d-9f00-afc44a68a9a8",
   "metadata": {},
   "source": [
    "## feature selection"
   ]
  },
  {
   "cell_type": "markdown",
   "id": "3a26371e-cd81-412c-87fa-f1bbce4dccc5",
   "metadata": {},
   "source": [
    "## modelling"
   ]
  },
  {
   "cell_type": "markdown",
   "id": "d7c4276b-2b59-428b-bd9b-e6e518b52a85",
   "metadata": {},
   "source": [
    "## post-processing"
   ]
  }
 ],
 "metadata": {
  "kernelspec": {
   "display_name": "Python 3 (ipykernel)",
   "language": "python",
   "name": "python3"
  },
  "language_info": {
   "codemirror_mode": {
    "name": "ipython",
    "version": 3
   },
   "file_extension": ".py",
   "mimetype": "text/x-python",
   "name": "python",
   "nbconvert_exporter": "python",
   "pygments_lexer": "ipython3",
   "version": "3.8.10"
  }
 },
 "nbformat": 4,
 "nbformat_minor": 5
}
